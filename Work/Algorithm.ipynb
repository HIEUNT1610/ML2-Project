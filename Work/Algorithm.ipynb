{
 "cells": [
  {
   "attachments": {},
   "cell_type": "markdown",
   "metadata": {},
   "source": [
    "We will work on this notebook to implement the algorithm.\n",
    "Please check regularly for updates.\n",
    "\n",
    "Main tasks:\n",
    "1. Write the code for the algorithm\n",
    "2. Find better $\\alpha$ and $\\beta$ values for the model.\n",
    "3. Find stopping criteria for the model.\n",
    "4. Apply the new hyperparameters to the algorithm, and evaluate the results on a lexical similarity task, then on a sentiment analysis task."
   ]
  },
  {
   "cell_type": "code",
   "execution_count": 1,
   "metadata": {},
   "outputs": [],
   "source": [
    "# Importing the libraries:\n",
    "import numpy as np\n",
    "#import gensim.models.word2vec as w2v\n",
    "#import gensim.downloader as api\n",
    "from copy import deepcopy\n",
    "import re\n",
    "import math\n",
    "import sys\n",
    "import gzip\n",
    "import nltk\n",
    "from nltk.corpus import wordnet as wn\n",
    "import matplotlib.pyplot as plt\n",
    "import pandas as pd\n",
    "from lexicons_builder import build_lexicon\n"
   ]
  },
  {
   "cell_type": "code",
   "execution_count": 2,
   "metadata": {},
   "outputs": [],
   "source": [
    "# Define a read vectors function to read the vectors from the file\n",
    "def read_vectors_file(filename):\n",
    "    word_vectors = {}\n",
    "    if filename.endswith('.gz'): fileObject = gzip.open(filename, 'rt', encoding='utf-8' )\n",
    "    else: fileObject = open(filename, 'r', encoding='utf-8')    \n",
    "    \n",
    "    for line in fileObject:\n",
    "        line = line.strip()\n",
    "        if line:\n",
    "            parts = line.split()\n",
    "            word = parts[0]\n",
    "            vector = [float(x) for x in parts[1:]]\n",
    "            word_vectors[word] = np.array(vector) # Convert to numpy array for later use in the code\n",
    "    return word_vectors\n",
    "\n",
    "# Read the vectors from the file as a dictionary\n",
    "vectors = read_vectors_file('vectors_datatxt_250_sg_w10_i5_c500_gensim_clean.gz')\n",
    "fr_vectors = read_vectors_file('vecs100-linear-frwiki')"
   ]
  },
  {
   "cell_type": "code",
   "execution_count": 3,
   "metadata": {},
   "outputs": [
    {
     "name": "stdout",
     "output_type": "stream",
     "text": [
      "The English vocabulary size is 125777\n",
      "The French vocabulary size is 150362\n",
      "The English vector size is 250\n",
      "The French vector size is 100\n"
     ]
    }
   ],
   "source": [
    "print(f\"The English vocabulary size is {len(vectors)}\")\n",
    "print(f\"The French vocabulary size is {len(fr_vectors)}\")\n",
    "print(f\"The English vector size is {len(vectors['dog'])}\")\n",
    "print(f\"The French vector size is {len(fr_vectors['le'])}\")"
   ]
  },
  {
   "cell_type": "code",
   "execution_count": 4,
   "metadata": {},
   "outputs": [],
   "source": [
    "# Toy corpus of 10 words:\n",
    "toy_corpus = ['frog', 'toad', 'berger', 'cat', 'cheetah', 'dog', 'feline', 'true', 'false', 'incorrect']\n",
    "\n",
    "# Vectorize the toy corpus:\n",
    "vec_toy_corpus = [vectors[word] for word in toy_corpus]\n"
   ]
  },
  {
   "cell_type": "code",
   "execution_count": 5,
   "metadata": {},
   "outputs": [],
   "source": [
    "# These are the way when I used the gensim model. It's just too large or my laptop to run.\n",
    "# Load the word2vec model:\n",
    "#wv = api.load('word2vec-google-news-300')\n",
    "#wv = w2v.Word2Vec(vector_size=250, min_count=500, window=8, sample=1e-3, workers=8, sg=1, hs=0, negative=10, epochs=5)\n",
    "\n",
    "# Vectorize the toy corpus:\n",
    "#vec_toy_corpus = [wv.wv[word] for word in toy_corpus]\n",
    "#vec_toy_corpus = [wv[word] for word in toy_corpus]\n"
   ]
  },
  {
   "cell_type": "code",
   "execution_count": 6,
   "metadata": {},
   "outputs": [
    {
     "name": "stdout",
     "output_type": "stream",
     "text": [
      "The similarity between cat and feline is: 0.5670\n"
     ]
    }
   ],
   "source": [
    "# Compare vectors using cosine similarity:\n",
    "def cosine_similarity(vec1, vec2):\n",
    "    return np.dot(vec1, vec2) / (np.linalg.norm(vec1) * np.linalg.norm(vec2))\n",
    "\n",
    "# Compute the cosine similarity matrix:\n",
    "similarity_matrix = np.zeros((len(vec_toy_corpus), len(vec_toy_corpus)))\n",
    "for i in range(len(vec_toy_corpus)):\n",
    "    for j in range(len(vec_toy_corpus)):\n",
    "        similarity_matrix[i][j] = cosine_similarity(vec_toy_corpus[i], vec_toy_corpus[j])\n",
    "print(f\"The similarity between cat and feline is: {similarity_matrix[3][6]:.4f}\")\n",
    "# Print the cosine similarity matrix:\n",
    "#for i in range(len(vec_toy_corpus)):\n",
    "#    for j in range(len(vec_toy_corpus)):\n",
    "#        print(f'Similarity between {toy_corpus[i]} and {toy_corpus[j]} is {similarity_matrix[i][j]:.4f}')"
   ]
  },
  {
   "attachments": {},
   "cell_type": "markdown",
   "metadata": {},
   "source": [
    "# 1. Implementing the algorithm and finding the suitable lexicons for English and French datasets."
   ]
  },
  {
   "cell_type": "code",
   "execution_count": 7,
   "metadata": {},
   "outputs": [],
   "source": [
    "# We implement the retrofitting algorithm of Faruqui et al. (2015):\n",
    "# Preprocessing the data:\n",
    "isNumber = re.compile(r'\\d+.*')\n",
    "def norm_word(word):\n",
    "  word = word.replace('[', '').replace(']', '').replace(\"'\", '').replace('\"', '').replace(':', '').replace(',', '').replace('.', '')\n",
    "  if isNumber.search(word.lower()):\n",
    "    return '---num---'\n",
    "  elif re.sub(r'\\W+', '', word) == '':\n",
    "    return '---punc---'\n",
    "  else:\n",
    "    return word.lower()\n",
    "\n",
    "# Read all the word vectors and normalize them:\n",
    "def read_word_vecs(filename):\n",
    "  wordVectors = {}\n",
    "  if filename.endswith('.gz'): fileObject = gzip.open(filename, 'r')\n",
    "  else: fileObject = open(filename, 'r')\n",
    "  \n",
    "  for line in fileObject:\n",
    "    line = line.strip().lower()\n",
    "    word = line.split()[0]\n",
    "    wordVectors[word] = np.zeros(len(line.split())-1, dtype=float)\n",
    "    for index, vecVal in enumerate(line.split()[1:]):\n",
    "      wordVectors[word][index] = float(vecVal)\n",
    "    ''' normalize weight vector '''\n",
    "    wordVectors[word] /= math.sqrt((wordVectors[word]**2).sum() + 1e-6)\n",
    "    \n",
    "  sys.stderr.write(\"Vectors read from: \"+filename+\" \\n\")\n",
    "  return wordVectors\n",
    "\n",
    "# Read lexicon as a dictionary:\n",
    "def read_lexicon(filename, encoding='utf-8'):\n",
    "  lexicon = {}\n",
    "  if filename.endswith('.gz'): fileObject = gzip.open(filename, 'r')\n",
    "  else: fileObject = open(filename, 'r', encoding=encoding)\n",
    "  \n",
    "  for line in fileObject:\n",
    "    words = line.lower().strip().split()\n",
    "    lexicon[norm_word(words[0])] = [norm_word(word) for word in words[1:]]\n",
    "  return lexicon\n",
    "\n",
    "# Retrofit word vectors to a lexicon:\n",
    "def retrofit(wordVecs, lexicon, numIters, alpha = 1, beta = 1): # wordVecs is a dictionary\n",
    "  newWordVecs = deepcopy(wordVecs)\n",
    "  wvVocab = set(newWordVecs.keys())\n",
    "  loopVocab = wvVocab.intersection(set(lexicon.keys()))\n",
    "  for it in range(numIters):\n",
    "    # loop through every node also in ontology (else just use data estimate)\n",
    "    for word in loopVocab:\n",
    "      wordNeighbours = set(lexicon[word]).intersection(wvVocab)\n",
    "      numNeighbours = len(wordNeighbours)\n",
    "      #no neighbours, pass - use data estimate\n",
    "      if numNeighbours == 0:\n",
    "        continue\n",
    "      # the weight of the old vector is alpha\n",
    "      newVec = alpha * wordVecs[word]\n",
    "      # loop over neighbours and add to new vector (currently with weight beta)\n",
    "      for ppWord in wordNeighbours:\n",
    "        newVec += beta * newWordVecs[ppWord] \n",
    "      newWordVecs[word] = newVec/(alpha + beta*numNeighbours) # 1/numNeighbours * numNeighbours = 1\n",
    "      # define a stopping mechanism using Euclidean distance\n",
    "      # if distance too small, use the original vector\n",
    "      if np.linalg.norm(newWordVecs[word] - wordVecs[word]) < 0.01:\n",
    "        newWordVecs[word] = wordVecs[word]\n",
    "  return newWordVecs"
   ]
  },
  {
   "cell_type": "code",
   "execution_count": 8,
   "metadata": {},
   "outputs": [
    {
     "name": "stdout",
     "output_type": "stream",
     "text": [
      "dict_keys(['frog', 'toad', 'berger', 'cat', 'cheetah', 'dog', 'feline', 'true', 'false', 'incorrect'])\n"
     ]
    }
   ],
   "source": [
    "# Transform the toy corpus into a wordVecs dictionary:\n",
    "toy_wordVecs = {}\n",
    "for i in range(len(vec_toy_corpus)):\n",
    "    toy_wordVecs[toy_corpus[i]] = vec_toy_corpus[i]\n",
    "print(toy_wordVecs.keys())"
   ]
  },
  {
   "cell_type": "code",
   "execution_count": 9,
   "metadata": {},
   "outputs": [
    {
     "data": {
      "text/plain": [
       "'\\nimport xml.etree.ElementTree as ET\\n\\n# specify the path to the WOLF file\\nwolf_path = \\'wolf-1.0b4.xml\\'\\n\\n# parse the WOLF file\\ntree = ET.parse(wolf_path)\\nroot = tree.getroot()\\n\\nword_relations = {}\\n\\nsynsets = root.findall(\\'SYNSET\\')\\nfor synset in synsets:\\n    synset_id = synset.find(\\'ID\\').text\\n    synonym_element = synset.find(\\'SYNONYM\\')\\n    for literal in synonym_element.findall(\\'LITERAL\\'):\\n        word = literal.text\\n        if word != \\'_EMPTY_\\':\\n            if word not in word_relations:\\n                word_relations[word] = []\\n            for ilr in synset.findall(\\'ILR\\'):\\n                if ilr.get(\\'type\\') in [\\'hypernym\\', \\'hyponym\\']:\\n                    target_id = ilr.text\\n                    target_synset = root.find(f\"SYNSET[ID=\\'{target_id}\\']\")\\n                    target_synonym_element = target_synset.find(\\'SYNONYM\\')\\n                    for target_literal in target_synonym_element.findall(\\'LITERAL\\'):\\n                        word_relations[word].append(target_literal.text) if target_literal.text != \\'_EMPTY_\\' else None\\n\\n    \\ndef export_dict_to_file(dictionary, filename):\\n    with open(filename, \\'w\\', encoding = \\'utf-8\\') as f:\\n        for key, value in dictionary.items():\\n            f.write(f\"{key}: {value}\\n\")\\n\\nexport_dict_to_file(word_relations, \\'word_relations_lemma.txt\\')'"
      ]
     },
     "execution_count": 9,
     "metadata": {},
     "output_type": "execute_result"
    }
   ],
   "source": [
    "# Create a French lexicon dictionary and add all hypernyms, hyponyms, meronyms, and holonyms\n",
    "# It took a lot of time so I saved the dictionary in a file.\n",
    "\n",
    "\"\"\"\n",
    "import xml.etree.ElementTree as ET\n",
    "\n",
    "# specify the path to the WOLF file\n",
    "wolf_path = 'wolf-1.0b4.xml'\n",
    "\n",
    "# parse the WOLF file\n",
    "tree = ET.parse(wolf_path)\n",
    "root = tree.getroot()\n",
    "\n",
    "word_relations = {}\n",
    "\n",
    "synsets = root.findall('SYNSET')\n",
    "for synset in synsets:\n",
    "    synset_id = synset.find('ID').text\n",
    "    synonym_element = synset.find('SYNONYM')\n",
    "    for literal in synonym_element.findall('LITERAL'):\n",
    "        word = literal.text\n",
    "        if word != '_EMPTY_':\n",
    "            if word not in word_relations:\n",
    "                word_relations[word] = []\n",
    "            for ilr in synset.findall('ILR'):\n",
    "                if ilr.get('type') in ['hypernym', 'hyponym']:\n",
    "                    target_id = ilr.text\n",
    "                    target_synset = root.find(f\"SYNSET[ID='{target_id}']\")\n",
    "                    target_synonym_element = target_synset.find('SYNONYM')\n",
    "                    for target_literal in target_synonym_element.findall('LITERAL'):\n",
    "                        word_relations[word].append(target_literal.text) if target_literal.text != '_EMPTY_' else None\n",
    "\n",
    "    \n",
    "def export_dict_to_file(dictionary, filename):\n",
    "    with open(filename, 'w', encoding = 'utf-8') as f:\n",
    "        for key, value in dictionary.items():\n",
    "            f.write(f\"{key}: {value}\\n\")\n",
    "\n",
    "export_dict_to_file(word_relations, 'word_relations_lemma.txt')\"\"\"\n",
    "\n"
   ]
  },
  {
   "cell_type": "code",
   "execution_count": 10,
   "metadata": {},
   "outputs": [],
   "source": [
    "# Read the English lexicons from files:\n",
    "frame_lexicon = read_lexicon('framenet.txt')\n",
    "wn_lexicon = read_lexicon('wordnet-synonyms+.txt')\n",
    "ppdb_lexicon = read_lexicon('ppdb-xl.txt')\n",
    "\n",
    "# Read the French lexicon from file:\n",
    "fr_lexicon = read_lexicon('word_relations_lemma.txt')"
   ]
  },
  {
   "cell_type": "code",
   "execution_count": 11,
   "metadata": {},
   "outputs": [
    {
     "name": "stdout",
     "output_type": "stream",
     "text": [
      "['shepherd', 'accompany', 'pursuer', 'lead', 'show', 'track', 'stalk', 'guided', 'walk', 'trail', 'tail', 'usher', 'pursuit', 'escort', 'conduct', 'follow', 'shadow', 'hound', 'guide', 'pursue', 'chase']\n",
      "['chase', 'chase_after', 'trail', 'tail', 'tag', 'give_chase', 'go_after', 'track', 'domestic_dog', 'canis_familiaris', 'andiron', 'firedog', 'dog-iron', 'pawl', 'detent', 'click', 'frank', 'frankfurter', 'hotdog', 'hot_dog', 'wiener', 'wienerwurst', 'weenie', 'cad', 'bounder', 'blackguard', 'hound', 'heel', 'frump', 'pursue', 'follow', 'domestic_animal', 'domesticated_animal', 'canine', 'canid', 'support', 'catch', 'stop', 'sausage', 'villain', 'scoundrel', 'chap', 'fellow', 'feller', 'fella', 'lad', 'gent', 'blighter', 'cuss', 'bloke', 'unpleasant_woman', 'disagreeable_woman', 'tree', 'run_down', 'quest', 'hound', 'hunt', 'trace', 'puppy', 'great_pyrenees', 'basenji', 'newfoundland', 'newfoundland_dog', 'lapdog', 'poodle', 'poodle_dog', 'leonberg', 'toy_dog', 'toy', 'spitz', 'pooch', 'doggie', 'doggy', 'barker', 'bow-wow', 'cur', 'mongrel', 'mutt', 'mexican_hairless', 'hunting_dog', 'working_dog', 'dalmatian', 'coach_dog', 'carriage_dog', 'pug', 'pug-dog', 'corgi', 'welsh_corgi', 'griffon', 'brussels_griffon', 'belgian_griffon', 'vienna_sausage', 'perisher']\n",
      "['dogs', 'chien', 'doggy', 'puppy', 'doggie', 'canine', 'hound', 'mutt', 'bitch', 'boy', 'cabot', 'lapdog', 'bloodhound', 'cane', 'psa', 'pup', 'pooch']\n",
      "['de', 'prairie', 'rodentia', 'rongeur']\n"
     ]
    }
   ],
   "source": [
    "# Test the lexicons:\n",
    "print(frame_lexicon['dog'])\n",
    "print(wn_lexicon['dog'])\n",
    "print(ppdb_lexicon['dog'])\n",
    "\n",
    "# Test the French lexicon:\n",
    "print(fr_lexicon['chien'])"
   ]
  },
  {
   "cell_type": "code",
   "execution_count": 12,
   "metadata": {},
   "outputs": [
    {
     "name": "stdout",
     "output_type": "stream",
     "text": [
      "The frame similarity between cat and feline is: 0.5670\n",
      "The wn similarity between cat and feline is: 0.9337\n",
      "The ppdb similarity between cat and feline is: 0.5670\n",
      "Similarity is changed by 0.0000 between cat and feline\n",
      "Similarity is changed by 0.3668 between cat and feline\n",
      "Similarity is changed by 0.0000 between cat and feline\n",
      "There has been some improvements in the toy corpus, so the retrofit algorithm works! We can move on to find the better hyperparameters.\n",
      "It seems that wn_lexicon is the better lexicon, so we will use it for the rest of the assignment.\n"
     ]
    }
   ],
   "source": [
    "# Retrofit the word vectors using basic hyperparameters:\n",
    "frame_newWordVecs = retrofit(toy_wordVecs, frame_lexicon, numIters = 10, alpha = 1, beta = 2)\n",
    "wn_newWordVecs = retrofit(toy_wordVecs, wn_lexicon, numIters = 10, alpha = 1, beta = 2)\n",
    "ppdb_newWordVecs = retrofit(toy_wordVecs, ppdb_lexicon, numIters = 10, alpha = 1, beta = 2)\n",
    "\n",
    "# Similarity matrix after retrofitting:\n",
    "frame_retro_similarity_matrix = np.zeros((len(vec_toy_corpus), len(vec_toy_corpus)))\n",
    "wn_retro_similarity_matrix = np.zeros((len(vec_toy_corpus), len(vec_toy_corpus)))\n",
    "ppdb_retro_similarity_matrix = np.zeros((len(vec_toy_corpus), len(vec_toy_corpus)))\n",
    "\n",
    "for i in range(len(vec_toy_corpus)):\n",
    "    for j in range(len(vec_toy_corpus)):\n",
    "        frame_retro_similarity_matrix[i][j] = cosine_similarity(frame_newWordVecs[toy_corpus[i]], frame_newWordVecs[toy_corpus[j]])\n",
    "\n",
    "for i in range(len(vec_toy_corpus)):\n",
    "    for j in range(len(vec_toy_corpus)):\n",
    "        wn_retro_similarity_matrix[i][j] = cosine_similarity(wn_newWordVecs[toy_corpus[i]], wn_newWordVecs[toy_corpus[j]])\n",
    "        \n",
    "for i in range(len(vec_toy_corpus)):\n",
    "    for j in range(len(vec_toy_corpus)):\n",
    "        ppdb_retro_similarity_matrix[i][j] = cosine_similarity(ppdb_newWordVecs[toy_corpus[i]], ppdb_newWordVecs[toy_corpus[j]])        \n",
    "# Print the cosine similarity matrix:\n",
    "frame_retrofit_effect_matrix = frame_retro_similarity_matrix - similarity_matrix\n",
    "wn_retrofit_effect_matrix = wn_retro_similarity_matrix - similarity_matrix\n",
    "ppdb_retrofit_effect_matrix = ppdb_retro_similarity_matrix - similarity_matrix\n",
    "\n",
    "print(f\"The frame similarity between cat and feline is: {frame_retro_similarity_matrix[3][6]:.4f}\")\n",
    "print(f\"The wn similarity between cat and feline is: {wn_retro_similarity_matrix[3][6]:.4f}\")\n",
    "print(f\"The ppdb similarity between cat and feline is: {ppdb_retro_similarity_matrix[3][6]:.4f}\")\n",
    "\n",
    "print(f'Similarity is changed by {frame_retrofit_effect_matrix[3][6]:.4f} between {toy_corpus[3]} and {toy_corpus[6]}')\n",
    "print(f'Similarity is changed by {wn_retrofit_effect_matrix[3][6]:.4f} between {toy_corpus[3]} and {toy_corpus[6]}')\n",
    "print(f'Similarity is changed by {ppdb_retrofit_effect_matrix[3][6]:.4f} between {toy_corpus[3]} and {toy_corpus[6]}')\n",
    "\n",
    "print('There has been some improvements in the toy corpus, so the retrofit algorithm works! We can move on to find the better hyperparameters.')\n",
    "print(\"It seems that wn_lexicon is the better lexicon, so we will use it for the rest of the assignment.\")"
   ]
  },
  {
   "attachments": {},
   "cell_type": "markdown",
   "metadata": {},
   "source": [
    "# 2. Implement the algorithm in matrix form."
   ]
  },
  {
   "attachments": {},
   "cell_type": "markdown",
   "metadata": {},
   "source": [
    "In order to implement the retrofitting algorithm in the matrix form, we will assume that the input is the whole word embeddings matrix E(w), and the output is the whole word embeddings matrix E'(w). The retrofitting algorithm will be applied to the whole word embeddings matrix E(w) to get the whole word embeddings matrix E'(w).\n",
    "\n",
    "To do this, we will have to change the way the lexicon works. At the moment, it is a dictionary with words as keys and their neighbors as values, but to have better performance on a larger vocabulary, it should have indices instead of words. This way, we can use the indices to access the word embeddings matrix E(w) and E'(w)."
   ]
  },
  {
   "cell_type": "code",
   "execution_count": 13,
   "metadata": {},
   "outputs": [],
   "source": [
    "# Word ids and indices:\n",
    "def build_word_index_mappings(word_vectors):\n",
    "    word_to_index = {}\n",
    "    index_to_word = []\n",
    "    for i, word in enumerate(word_vectors.keys()):\n",
    "        word_to_index[word] = i\n",
    "        index_to_word.append(word)\n",
    "    return word_to_index, index_to_word\n",
    "\n",
    "word_ids, word_indices = build_word_index_mappings(vectors)\n",
    "fr_word_ids, fr_word_indices = build_word_index_mappings(fr_vectors)\n"
   ]
  },
  {
   "cell_type": "code",
   "execution_count": 14,
   "metadata": {},
   "outputs": [
    {
     "name": "stdout",
     "output_type": "stream",
     "text": [
      "2122\n",
      "['chase', 'chase_after', 'trail', 'tail', 'tag', 'give_chase', 'go_after', 'track', 'domestic_dog', 'canis_familiaris', 'andiron', 'firedog', 'dog-iron', 'pawl', 'detent', 'click', 'frank', 'frankfurter', 'hotdog', 'hot_dog', 'wiener', 'wienerwurst', 'weenie', 'cad', 'bounder', 'blackguard', 'hound', 'heel', 'frump', 'pursue', 'follow', 'domestic_animal', 'domesticated_animal', 'canine', 'canid', 'support', 'catch', 'stop', 'sausage', 'villain', 'scoundrel', 'chap', 'fellow', 'feller', 'fella', 'lad', 'gent', 'blighter', 'cuss', 'bloke', 'unpleasant_woman', 'disagreeable_woman', 'tree', 'run_down', 'quest', 'hound', 'hunt', 'trace', 'puppy', 'great_pyrenees', 'basenji', 'newfoundland', 'newfoundland_dog', 'lapdog', 'poodle', 'poodle_dog', 'leonberg', 'toy_dog', 'toy', 'spitz', 'pooch', 'doggie', 'doggy', 'barker', 'bow-wow', 'cur', 'mongrel', 'mutt', 'mexican_hairless', 'hunting_dog', 'working_dog', 'dalmatian', 'coach_dog', 'carriage_dog', 'pug', 'pug-dog', 'corgi', 'welsh_corgi', 'griffon', 'brussels_griffon', 'belgian_griffon', 'vienna_sausage', 'perisher']\n",
      "93\n",
      "3137\n",
      "['de', 'prairie', 'rodentia', 'rongeur']\n"
     ]
    }
   ],
   "source": [
    "# Take a look at the lexicon:\n",
    "print(word_ids['dog'])\n",
    "print(wn_lexicon['dog'])\n",
    "print(len(wn_lexicon['dog']))\n",
    "print(fr_word_ids['chien'])\n",
    "print(fr_lexicon['chien'])"
   ]
  },
  {
   "cell_type": "code",
   "execution_count": 15,
   "metadata": {},
   "outputs": [],
   "source": [
    "# Create a new dictionary to store the lexicon with word IDs\n",
    "# This dictionary will have as keys the word IDs and as values the list of IDs of the words in the lexicon that are related to the key. The words not present in the vocabulary are ignored.\n",
    "# This is done to ensure that the IDs of the words in the lexicon are the same as the IDs of the words in the vocabulary.\n",
    "wn_lexicon_with_ids = {}\n",
    "\n",
    "# We iterate through the keys of the lexicon, and replace by the word IDs. Skip if not in the vocabulary.\n",
    "for word in wn_lexicon.keys():\n",
    "    if word not in word_ids:\n",
    "        continue\n",
    "    else:\n",
    "        wn_lexicon_with_ids[word_ids[word]] = [word_ids[w] for w in wn_lexicon[word] if w in word_ids.keys()]\n",
    "        \n",
    "# Do the same for french lexicon:\n",
    "fr_lexicon_with_ids = {}\n",
    "\n",
    "for word in fr_lexicon.keys():\n",
    "    if word not in fr_word_ids:\n",
    "        continue\n",
    "    else:\n",
    "        fr_lexicon_with_ids[fr_word_ids[word]] = [fr_word_ids[w] for w in fr_lexicon[word] if w in fr_word_ids.keys()]\n"
   ]
  },
  {
   "cell_type": "code",
   "execution_count": 16,
   "metadata": {},
   "outputs": [
    {
     "name": "stdout",
     "output_type": "stream",
     "text": [
      "The number of neighbors for 'dog' is 53 after removing words not in the vocabulary.\n",
      "The number of neighbors for 'chien' is 3 after removing words not in the vocabulary.\n"
     ]
    }
   ],
   "source": [
    "print(f\"The number of neighbors for 'dog' is {len(wn_lexicon_with_ids[word_ids['dog']])} after removing words not in the vocabulary.\")\n",
    "print(f\"The number of neighbors for 'chien' is {len(fr_lexicon_with_ids[fr_word_ids['chien']])} after removing words not in the vocabulary.\")"
   ]
  },
  {
   "cell_type": "code",
   "execution_count": 17,
   "metadata": {},
   "outputs": [
    {
     "name": "stdout",
     "output_type": "stream",
     "text": [
      "We will not use the antonyms in this assignment, because it seems to lower the performance of the model in our implementation. But it is an option to improve the similarity.\n"
     ]
    }
   ],
   "source": [
    "# Create a new dictionary to store antonyms from WordNet:\n",
    "antonyms = {}\n",
    "\n",
    "# Get the antonyms from WordNet and store them in the dictionary\n",
    "for synset in wn.all_synsets():\n",
    "    for lemma in synset.lemmas():\n",
    "        for antonym in lemma.antonyms():\n",
    "            word = lemma.name()\n",
    "            antonym_word = antonym.name()\n",
    "            if word in word_ids and antonym_word in word_ids:\n",
    "                antonyms[word_ids[word]] = word_ids[antonym_word]\n",
    "print(\"We will not use the antonyms in this assignment, because it seems to lower the performance of the model in our implementation. But it is an option to improve the similarity.\")\n"
   ]
  },
  {
   "cell_type": "code",
   "execution_count": 18,
   "metadata": {},
   "outputs": [
    {
     "name": "stdout",
     "output_type": "stream",
     "text": [
      "[3976, 3004, 4885, 2323, 628, 119837, 4064, 1675, 36730, 114003, 20248, 105882, 24027, 19729, 14793, 4721, 1550, 22357, 265, 3559, 959, 18002, 9909, 69569, 25414, 1666, 46171, 42210, 17849, 29517, 105981, 25817, 1947, 6109, 19729, 3446, 7013, 17798, 7860, 43170, 6316, 38975, 52235, 67663, 60179, 9590, 34751, 72560, 36218, 38783, 50015, 60126, 47213]\n",
      "wrong\n",
      "below\n"
     ]
    }
   ],
   "source": [
    "# Test new lexicons:\n",
    "print(wn_lexicon_with_ids.get(word_ids['dog'])) # dog\n",
    "print(word_indices[antonyms.get(word_ids['right'])])\n",
    "print(word_indices[antonyms.get(word_ids['above'])])"
   ]
  },
  {
   "cell_type": "code",
   "execution_count": 19,
   "metadata": {},
   "outputs": [],
   "source": [
    "# Create the embedding matrix:\n",
    "embedding_matrix = np.zeros((len(word_indices), len(vectors['the'])))\n",
    "fr_embedding_matrix = np.zeros((len(fr_word_indices), len(fr_vectors['le'])))\n",
    "\n",
    "# Fill the embedding matrix with the word vectors from the word2vec model\n",
    "for i in range(len(word_indices)):\n",
    "    embedding_matrix[i] = vectors[word_indices[i]]   \n",
    "    \n",
    "for i in range(len(fr_word_indices)):\n",
    "    fr_embedding_matrix[i] = fr_vectors[fr_word_indices[i]]"
   ]
  },
  {
   "cell_type": "code",
   "execution_count": 20,
   "metadata": {},
   "outputs": [],
   "source": [
    "# Create a neighbor matrix from the new lexicon:\n",
    "# The value for each word is the sum of the embeddings of the words in the lexicon that are related to the word\n",
    "neighbor_matrix = np.zeros((len(word_indices), len(vectors['the']))) # It's a matrix of size (vocab_size, 250)\n",
    "fr_neighbor_matrix = np.zeros((len(fr_word_indices), len(fr_vectors['le']))) # It's a matrix of size (vocab_size, 100)\n",
    "\n",
    "# Fill the neighbor matrix:\n",
    "# For each word in the lexicon, we sum the embeddings of the words in the lexicon that are related to the word\n",
    "for key in wn_lexicon_with_ids.keys():\n",
    "    neighbor_matrix[key] = np.sum(embedding_matrix[wn_lexicon_with_ids[key]], axis = 0)\n",
    "    \n",
    "for key in fr_lexicon_with_ids.keys():\n",
    "    fr_neighbor_matrix[key] = np.sum(fr_embedding_matrix[fr_lexicon_with_ids[key]], axis = 0)\n",
    "\n",
    "# Create an array of number of neighbors for each word:\n",
    "num_neighbors = np.zeros(len(word_indices))\n",
    "for key in wn_lexicon_with_ids.keys():\n",
    "    num_neighbors[key] = len(wn_lexicon_with_ids[key])\n",
    "num_neighbors[num_neighbors == 0] = 1e-6 # To avoid division by 0\n",
    "\n",
    "fr_num_neighbors = np.zeros(len(fr_word_indices))\n",
    "for key in fr_lexicon_with_ids.keys():\n",
    "    fr_num_neighbors[key] = len(fr_lexicon_with_ids[key])\n",
    "fr_num_neighbors[fr_num_neighbors == 0] = 1e-6 # To avoid division by 0\n",
    "\n",
    "# Divide each row of the neighbor matrix by the number of neighbors for the corresponding word\n",
    "neighbor_matrix = neighbor_matrix / num_neighbors[:, None]\n",
    "fr_neighbor_matrix = fr_neighbor_matrix / fr_num_neighbors[:, None]"
   ]
  },
  {
   "cell_type": "code",
   "execution_count": 21,
   "metadata": {},
   "outputs": [
    {
     "name": "stdout",
     "output_type": "stream",
     "text": [
      "[3976, 3004, 4885, 2323, 628, 119837, 4064, 1675, 36730, 114003, 20248, 105882, 24027, 19729, 14793, 4721, 1550, 22357, 265, 3559, 959, 18002, 9909, 69569, 25414, 1666, 46171, 42210, 17849, 29517, 105981, 25817, 1947, 6109, 19729, 3446, 7013, 17798, 7860, 43170, 6316, 38975, 52235, 67663, 60179, 9590, 34751, 72560, 36218, 38783, 50015, 60126, 47213]\n",
      "(53, 250)\n",
      "(250,)\n",
      "53.0\n",
      "\n",
      "\n",
      "[3, 15233, 40254]\n",
      "(3, 100)\n",
      "(100,)\n",
      "3.0\n"
     ]
    }
   ],
   "source": [
    "# Test the neighbor matrix:\n",
    "print(wn_lexicon_with_ids[word_ids['dog']]) \n",
    "print(embedding_matrix[wn_lexicon_with_ids[word_ids['dog']]].shape) \n",
    "print(neighbor_matrix[word_ids['dog']].shape)\n",
    "print(num_neighbors[word_ids['dog']]) \n",
    "print('\\n')\n",
    "print(fr_lexicon_with_ids[fr_word_ids['chien']]) \n",
    "print(fr_embedding_matrix[fr_lexicon_with_ids[fr_word_ids['chien']]].shape)\n",
    "print(fr_neighbor_matrix[fr_word_ids['chien']].shape)\n",
    "print(fr_num_neighbors[fr_word_ids['chien']])"
   ]
  },
  {
   "cell_type": "code",
   "execution_count": 22,
   "metadata": {},
   "outputs": [],
   "source": [
    "# Create an antonym matrix:\n",
    "antonym_matrix = np.zeros((len(word_indices), 250))\n",
    "\n",
    "# Fill the antonym matrix:\n",
    "#for key in antonyms.keys():\n",
    "    #antonym_matrix[key] = embedding_matrix[antonyms[key]]"
   ]
  },
  {
   "cell_type": "code",
   "execution_count": 23,
   "metadata": {},
   "outputs": [],
   "source": [
    "# Define the retrofitting algorithm, using the previously found hyperparameters:\n",
    "def retrofit_matrix(embedding_matrix, neighbor_matrix, num_neighbors, alpha = 1, beta = 1, nb_iters = 10):\n",
    "    new_embedding_matrix = embedding_matrix\n",
    "    for i in np.arange(nb_iters):\n",
    "        new_embedding_matrix = (alpha * new_embedding_matrix * num_neighbors[:, None] + beta * (neighbor_matrix)) / (alpha + beta * num_neighbors[:, None]) # If we want to use the antonym matrix, we can subtract from the neighbor matrix\n",
    "        # Implement a stopping criterion: If the norm of the difference between the new and the old embedding matrix is less than 1e-2, stop the algorithm\n",
    "        if np.linalg.norm(new_embedding_matrix - embedding_matrix) < 1e-2:\n",
    "            break\n",
    "    return new_embedding_matrix\n",
    "\n",
    "# Run the algorithm on the embedding matrix using some basic hyperparameters:\n",
    "retrofitted_matrix = retrofit_matrix(embedding_matrix, neighbor_matrix, num_neighbors, alpha = 1, beta = 1, nb_iters = 10)\n",
    "fr_retrofitted_matrix = retrofit_matrix(fr_embedding_matrix, fr_neighbor_matrix, fr_num_neighbors, alpha = 1, beta = 1, nb_iters = 10)"
   ]
  },
  {
   "cell_type": "code",
   "execution_count": 24,
   "metadata": {},
   "outputs": [
    {
     "data": {
      "text/plain": [
       "'diff_vec = np.zeros(250)\\nfor word in word_ids.keys():\\n    if word in wn_lexicon.keys():\\n        diff_vec += (retrofitted_matrix[word_ids[word]] - embedding_matrix[word_ids[word]])\\ndiff_vec = diff_vec / len(word_ids.keys())\\n\\n# Apply the difference vector on the words which were not present in the lexicon:\\nfor word in word_ids.keys():\\n    if word not in wn_lexicon.keys():\\n        retrofitted_matrix[word_ids[word]] = embedding_matrix[word_ids[word]] + diff_vec'"
      ]
     },
     "execution_count": 24,
     "metadata": {},
     "output_type": "execute_result"
    }
   ],
   "source": [
    "# We can also improve the algorithm further by calculating a difference vector for all retrofitted vectors, and apply this difference vector on the words which were not present in the lexicon. This is done in the following code:\n",
    "# Calculate the difference vector:\n",
    "\"\"\"diff_vec = np.zeros(250)\n",
    "for word in word_ids.keys():\n",
    "    if word in wn_lexicon.keys():\n",
    "        diff_vec += (retrofitted_matrix[word_ids[word]] - embedding_matrix[word_ids[word]])\n",
    "diff_vec = diff_vec / len(word_ids.keys())\n",
    "\n",
    "# Apply the difference vector on the words which were not present in the lexicon:\n",
    "for word in word_ids.keys():\n",
    "    if word not in wn_lexicon.keys():\n",
    "        retrofitted_matrix[word_ids[word]] = embedding_matrix[word_ids[word]] + diff_vec\"\"\""
   ]
  },
  {
   "attachments": {},
   "cell_type": "markdown",
   "metadata": {},
   "source": [
    "# 3. Evaluations.\n",
    "We will evaluate the new retrofitted word embeddings on a lexical similarity task, and a sentiment analysis task.\n",
    "## 3.1. Lexical similarity task.\n",
    "We will use the WordSim353 dataset to evaluate the performance of the retrofitting algorithm on a lexical similarity task. The WordSim353 dataset contains 353 pairs of words, and each pair is assigned a similarity score by human annotators. The similarity score ranges from 0 to 10, with 0 being not similar at all, and 10 being very similar. We will use the cosine similarity between the word embeddings of each pair of words to calculate the similarity score, and then compare it with the human similarity score to see how well the retrofitting algorithm performs."
   ]
  },
  {
   "cell_type": "code",
   "execution_count": 25,
   "metadata": {},
   "outputs": [],
   "source": [
    "# Read the WordSim353 and RG65 datasets as pandas dataframes:\n",
    "# It is done with pandas for ease of manipulation, and also ease of calculation of the correlation between the human scores and the cosine similarities\n",
    "# Because the formats of two datasets are different, I read them separately\n",
    "def read_ws353():\n",
    "    with open('ws353.txt', 'r') as f:\n",
    "        data = f.read()\n",
    "    lines = data.split('\\n')\n",
    "    lines = lines[0:-1]\n",
    "    word1 = []\n",
    "    word2 = []\n",
    "    human_scores = []\n",
    "    for line in lines:\n",
    "        tokens = line.split('\\t')\n",
    "        word1.append(tokens[0])\n",
    "        word2.append(tokens[1])\n",
    "        human_scores.append(float(tokens[2]))\n",
    "    df = pd.DataFrame({'word1': word1, 'word2': word2, 'score': human_scores})\n",
    "\n",
    "    return df\n",
    "\n",
    "ws353_data = read_ws353()\n",
    "\n",
    "def read_rg65():\n",
    "    with open('rg65_french.txt', 'r', encoding = 'utf-8') as f:\n",
    "        data = f.read()\n",
    "    lines = data.split('\\n')\n",
    "    lines = lines[0:-1]\n",
    "    word1 = []\n",
    "    word2 = []\n",
    "    human_scores = []\n",
    "    for line in lines:\n",
    "        tokens = line.split(' ')\n",
    "        word1.append(tokens[0])\n",
    "        word2.append(tokens[1])\n",
    "        human_scores.append(float(tokens[2]))\n",
    "    df = pd.DataFrame({'word1': word1, 'word2': word2, 'score': human_scores})\n",
    "\n",
    "    return df\n",
    "\n",
    "rg65_data = read_rg65()\n",
    "    "
   ]
  },
  {
   "cell_type": "code",
   "execution_count": 26,
   "metadata": {},
   "outputs": [
    {
     "name": "stdout",
     "output_type": "stream",
     "text": [
      "            word1     word2  score\n",
      "0            love       sex   6.77\n",
      "1           tiger       cat   7.35\n",
      "2           tiger     tiger  10.00\n",
      "3            book     paper   7.46\n",
      "4        computer  keyboard   7.62\n",
      "..            ...       ...    ...\n",
      "348        shower     flood   6.03\n",
      "349       weather  forecast   8.34\n",
      "350      disaster      area   6.25\n",
      "351      governor    office   6.34\n",
      "352  architecture   century   3.78\n",
      "\n",
      "[353 rows x 3 columns]\n",
      "         word1      word2  score\n",
      "0        corde    sourire   0.00\n",
      "1         midi    ficelle   0.00\n",
      "2          coq    périple   0.06\n",
      "3        fruit  fournaise   0.11\n",
      "4   autographe     rivage   0.00\n",
      "..         ...        ...    ...\n",
      "60     coussin   oreiller   3.00\n",
      "61   cimetière  cimetière   4.00\n",
      "62  automobile       auto   3.94\n",
      "63       joyau      bijou   3.22\n",
      "64        midi      dîner   2.17\n",
      "\n",
      "[65 rows x 3 columns]\n"
     ]
    }
   ],
   "source": [
    "print(ws353_data)\n",
    "print(rg65_data)"
   ]
  },
  {
   "cell_type": "code",
   "execution_count": 27,
   "metadata": {},
   "outputs": [],
   "source": [
    "# Create a function to compute the cosine similarity between two words:\n",
    "def emb_cosine_similarity(word1, word2, embedding_matrix, word_ids):\n",
    "    if word1 not in word_ids or word2 not in word_ids:\n",
    "        return None\n",
    "    word1_embedding = embedding_matrix[word_ids[word1]]\n",
    "    word2_embedding = embedding_matrix[word_ids[word2]]\n",
    "    return np.dot(word1_embedding, word2_embedding) / (np.linalg.norm(word1_embedding) * np.linalg.norm(word2_embedding))\n",
    "\n",
    "# Calculate the score for each pair of words in the dataset:\n",
    "ws353_data['original_score'] = ws353_data.apply(lambda row: emb_cosine_similarity(row['word1'], row['word2'], embedding_matrix, word_ids), axis = 1)\n",
    "ws353_data['retrofitted_score'] = ws353_data.apply(lambda row: emb_cosine_similarity(row['word1'], row['word2'], retrofitted_matrix, word_ids), axis = 1)\n",
    "\n",
    "# Calculate the score for each pair of words in the French dataset:\n",
    "rg65_data['original_score'] = rg65_data.apply(lambda row: emb_cosine_similarity(row['word1'], row['word2'], fr_embedding_matrix, fr_word_ids), axis = 1)\n",
    "rg65_data['retrofitted_score'] = rg65_data.apply(lambda row: emb_cosine_similarity(row['word1'], row['word2'], fr_retrofitted_matrix, fr_word_ids), axis = 1)\n"
   ]
  },
  {
   "cell_type": "code",
   "execution_count": 28,
   "metadata": {},
   "outputs": [
    {
     "name": "stdout",
     "output_type": "stream",
     "text": [
      "This is the scores for English original and retrofitted vectors against WS353 scores:\n",
      "                      score  original_score  retrofitted_score\n",
      "score              1.000000        0.690526           0.627718\n",
      "original_score     0.690526        1.000000           0.820189\n",
      "retrofitted_score  0.627718        0.820189           1.000000\n",
      "This is the scores for French original and retrofitted vectors against RG65 scores:\n",
      "                      score  original_score  retrofitted_score\n",
      "score              1.000000        0.704197           0.503364\n",
      "original_score     0.704197        1.000000           0.326257\n",
      "retrofitted_score  0.503364        0.326257           1.000000\n",
      "This is not a good result, because the correlations between the human scores and the retrofitted scores are much lower than the original vectors. \n",
      "We need to find better hyperparameters for the retrofitting algorithm.\n"
     ]
    }
   ],
   "source": [
    "# Because there are some words in the dataset that are not in the vocabulary, we need to remove them from the dataset before calculation of the correlation:\n",
    "ws353_data = ws353_data.dropna()\n",
    "rg65_data = rg65_data.dropna()\n",
    "\n",
    "# Calculate the Spearman correlation between the human scores and the model scores:\n",
    "print(\"This is the scores for English original and retrofitted vectors against WS353 scores:\")\n",
    "print(ws353_data[['score', 'original_score', 'retrofitted_score']].corr(method = 'spearman'))\n",
    "print(\"This is the scores for French original and retrofitted vectors against RG65 scores:\")\n",
    "print(rg65_data[['score', 'original_score', 'retrofitted_score']].corr(method = 'spearman'))\n",
    "print(\"This is not a good result, because the correlations between the human scores and the retrofitted scores are much lower than the original vectors. \\nWe need to find better hyperparameters for the retrofitting algorithm.\")"
   ]
  },
  {
   "cell_type": "code",
   "execution_count": 56,
   "metadata": {},
   "outputs": [],
   "source": [
    "# We can use the lexical similarity task to test for better hyperparameters for the English data, using exhaustive search:\n",
    "# We iterate over the hyperparameters alpha, beta and the number of iterations:\n",
    "scores = []\n",
    "best_score = 0\n",
    "for alpha in np.arange(0.1, 5.1, 1):\n",
    "    for beta in np.arange(0.1, 5.1, 1):\n",
    "        for numIters in range(1, 5):\n",
    "            # For each set of hyperparameters, we retrofit the embedding matrix and calculate the correlation between the human scores and the model scores:\n",
    "            retrofitted_matrix = retrofit_matrix(embedding_matrix, neighbor_matrix, num_neighbors, alpha = alpha, beta = beta, nb_iters = numIters)\n",
    "            \n",
    "            # Because using emb_cosine_similarity() is too slow, we use the following method to calculate the cosine similarity:\n",
    "            word1_index = ws353_data['word1'].apply(lambda x: word_ids[x])\n",
    "            word2_index = ws353_data['word2'].apply(lambda x: word_ids[x])\n",
    "            word1_emb = retrofitted_matrix[word1_index]\n",
    "            word2_emb = retrofitted_matrix[word2_index]\n",
    "            ws353_data['retrofitted_score'] = np.sum(word1_emb * word2_emb, axis=1) / (np.linalg.norm(word1_emb, axis=1) * np.linalg.norm(word2_emb, axis=1))\n",
    "            \n",
    "            # Calculate the Spearman correlation between the human scores and the retrofitted scores:\n",
    "            spearman_score = ws353_data['score'].corr(ws353_data['retrofitted_score'], method = 'spearman')\n",
    "            \n",
    "            # Store the hyperparameters and the correlation score:\n",
    "            scores.append((alpha, beta, numIters, spearman_score))\n",
    "            \n",
    "            # Update the best hyperparameters and the best score so far:\n",
    "            if spearman_score > best_score:\n",
    "                best_score = spearman_score\n",
    "                best_alpha = alpha\n",
    "                best_beta = beta\n",
    "                best_numIters = numIters\n",
    "            else:\n",
    "                continue\n",
    "\n",
    "print(f\"The best hyperparameters are alpha = {best_alpha}, beta = {best_beta}, and numIters = {best_numIters}, with the Spearman correlation score of {best_score:0.6f} for the English set.\")"
   ]
  },
  {
   "cell_type": "code",
   "execution_count": 30,
   "metadata": {},
   "outputs": [
    {
     "name": "stdout",
     "output_type": "stream",
     "text": [
      "The best hyperparameters are alpha = 4.1, beta = 3.1, and numIters = 1, with the Spearman correlation score of 0.728031055603436 for the French set.\n"
     ]
    }
   ],
   "source": [
    "# We can use the lexical similarity task to test for better hyperparameters for the French data, using exhaustive search:\n",
    "# Same method as above, but for the French data:\n",
    "fr_scores = []\n",
    "fr_best_score = 0\n",
    "for alpha in np.arange(0.1, 5.1, 1):\n",
    "    for beta in np.arange(0.1, 5.1, 1):\n",
    "        for numIters in range(1, 5):\n",
    "            # Aply the retrofitting algorithm to the French data:\n",
    "            retrofitted_matrix = retrofit_matrix(fr_embedding_matrix, fr_neighbor_matrix, fr_num_neighbors, alpha = alpha, beta = beta, nb_iters = numIters)\n",
    "            \n",
    "            # Calculate the cosine similarity between the words in the dataset:\n",
    "            word1_index = rg65_data['word1'].apply(lambda x: fr_word_ids[x] if x in fr_word_ids else None)\n",
    "            word2_index = rg65_data['word2'].apply(lambda x: fr_word_ids[x] if x in fr_word_ids else None)\n",
    "            word1_emb = retrofitted_matrix[word1_index]\n",
    "            word2_emb = retrofitted_matrix[word2_index]\n",
    "            rg65_data['retrofitted_score'] = np.sum(word1_emb * word2_emb, axis=1) / (np.linalg.norm(word1_emb, axis=1) * np.linalg.norm(word2_emb, axis=1))\n",
    "            \n",
    "            \n",
    "            # Calculate the Spearman correlation between the human scores and the retrofitted scores:\n",
    "            spearman_score = rg65_data['score'].corr(rg65_data['retrofitted_score'], method = 'spearman')\n",
    "            fr_scores.append((alpha, beta, numIters, spearman_score))\n",
    "            if spearman_score > fr_best_score:\n",
    "                fr_best_score = spearman_score\n",
    "                fr_best_alpha = alpha\n",
    "                fr_best_beta = beta\n",
    "                fr_best_numIters = numIters\n",
    "            else:\n",
    "                continue\n",
    "\n",
    "print(f\"The best hyperparameters are alpha = {fr_best_alpha}, beta = {fr_best_beta}, and numIters = {fr_best_numIters}, with the Spearman correlation score of {fr_best_score:0.6f} for the French set.\")"
   ]
  },
  {
   "cell_type": "code",
   "execution_count": null,
   "metadata": {},
   "outputs": [
    {
     "name": "stdout",
     "output_type": "stream",
     "text": [
      "The best hyperparameters are alpha = 0.1, beta = 0.1, and numIters = 1, with the Spearman correlation score of 0.700870 for the English set.\n",
      "The best hyperparameters are alpha = 4.1, beta = 3.1, and numIters = 1, with the Spearman correlation score of 0.728031 for the French set.\n"
     ]
    }
   ],
   "source": [
    "# Take a look at the results:\n",
    "print(f\"The best hyperparameters are alpha = {best_alpha}, beta = {best_beta}, and numIters = {best_numIters}, with the Spearman correlation score of {best_score:0.6f} for the English set.\")\n",
    "print(f\"The best hyperparameters are alpha = {fr_best_alpha}, beta = {fr_best_beta}, and numIters = {fr_best_numIters}, with the Spearman correlation score of {fr_best_score:0.6f} for the French set.\")"
   ]
  },
  {
   "cell_type": "code",
   "execution_count": 32,
   "metadata": {},
   "outputs": [
    {
     "name": "stdout",
     "output_type": "stream",
     "text": [
      "The best Spearman correlation score for the English set is 0.7014897718483956 with the following hyperparameters: alpha = 2.1, beta = 3.1, numIters = 1.\n",
      "                      score  original_score  retrofitted_score\n",
      "score              1.000000        0.690526           0.701490\n",
      "original_score     0.690526        1.000000           0.983356\n",
      "retrofitted_score  0.701490        0.983356           1.000000\n",
      "The best Spearman correlation score for the French set is 0.728031055603436 with the following hyperparameters: alpha = 4.1, beta = 3.1, numIters = 1.\n",
      "                      score  original_score  retrofitted_score\n",
      "score              1.000000        0.704197           0.728031\n",
      "original_score     0.704197        1.000000           0.953341\n",
      "retrofitted_score  0.728031        0.953341           1.000000\n"
     ]
    }
   ],
   "source": [
    "# Apply the best hyperparameters to the English data:\n",
    "retrofitted_matrix = retrofit_matrix(embedding_matrix, neighbor_matrix, num_neighbors, alpha = best_alpha, beta = best_beta, nb_iters = best_numIters)\n",
    "word1_index = ws353_data['word1'].apply(lambda x: word_ids[x])\n",
    "word2_index = ws353_data['word2'].apply(lambda x: word_ids[x])\n",
    "word1_emb = retrofitted_matrix[word1_index]\n",
    "word2_emb = retrofitted_matrix[word2_index]\n",
    "ws353_data['retrofitted_score'] = np.sum(word1_emb * word2_emb, axis=1) / (np.linalg.norm(word1_emb, axis=1) * np.linalg.norm(word2_emb, axis=1))\n",
    "spearman_score = ws353_data['score'].corr(ws353_data['retrofitted_score'], method = 'spearman')\n",
    "print(f\"The best Spearman correlation score for the English set is {spearman_score} with the following hyperparameters: alpha = {best_alpha}, beta = {best_beta}, numIters = {best_numIters}.\")\n",
    "print(ws353_data[['score', 'original_score', 'retrofitted_score']].corr(method = 'spearman'))\n",
    "\n",
    "# Apply the best hyperparameters to the French data:\n",
    "fr_retrofitted_matrix = retrofit_matrix(fr_embedding_matrix, fr_neighbor_matrix, fr_num_neighbors, alpha = fr_best_alpha, beta = fr_best_beta, nb_iters = fr_best_numIters)\n",
    "word1_index = rg65_data['word1'].apply(lambda x: fr_word_ids[x] if x in fr_word_ids else None)\n",
    "word2_index = rg65_data['word2'].apply(lambda x: fr_word_ids[x] if x in fr_word_ids else None)\n",
    "word1_emb = fr_retrofitted_matrix[word1_index]\n",
    "word2_emb = fr_retrofitted_matrix[word2_index]\n",
    "rg65_data['retrofitted_score'] = np.sum(word1_emb * word2_emb, axis=1) / (np.linalg.norm(word1_emb, axis=1) * np.linalg.norm(word2_emb, axis=1))\n",
    "fr_spearman_score = rg65_data['score'].corr(rg65_data['retrofitted_score'], method = 'spearman')\n",
    "print(f\"The best Spearman correlation score for the French set is {fr_spearman_score} with the following hyperparameters: alpha = {fr_best_alpha}, beta = {fr_best_beta}, numIters = {fr_best_numIters}.\")\n",
    "print(rg65_data[['score', 'original_score', 'retrofitted_score']].corr(method = 'spearman'))\n",
    "\n"
   ]
  },
  {
   "attachments": {},
   "cell_type": "markdown",
   "metadata": {},
   "source": [
    "## 3.2. Sentiment analysis task.\n",
    "We will use the Stanford Sentiment Treebank dataset to evaluate the performance of the retrofitting algorithm on a sentiment analysis task. The Stanford Sentiment Treebank dataset contains 11,855 sentences, and each sentence is assigned a sentiment score by human annotators. The sentiment score ranges between -1 and 1, with -1 as negative and 1 as positive. \n",
    "\n",
    "The two word embeddings will be used in a frozen way. We will train 2 neural network using the sentences vectorized by the two embeddings as input, and the sentiment scores as output. Then we will compare the predicted sentiment scores with original embeddings with the predicted sentiment scores with retrofitted embeddings to see how well the retrofitting algorithm performs. For this task, we will use accuracy as a metric to evaluate the performance of the retrofitting algorithm."
   ]
  },
  {
   "cell_type": "code",
   "execution_count": 33,
   "metadata": {},
   "outputs": [],
   "source": [
    "import torch"
   ]
  },
  {
   "cell_type": "code",
   "execution_count": 34,
   "metadata": {},
   "outputs": [],
   "source": [
    "# Read the dataset from Stanford Sentiment Treebank:\n",
    "def read_sst(filename):\n",
    "    # Open the gzip file\n",
    "    with gzip.open(filename, 'rt', encoding='utf-8') as f:\n",
    "        # Read the data and split it into lines\n",
    "        data = f.read()\n",
    "        lines = data.split('\\n')\n",
    "        lines = lines[0:-1]\n",
    "        \n",
    "        # Initialize lists to store sentences and labels\n",
    "        sentences = []\n",
    "        labels = []\n",
    "        \n",
    "        # Loop over each line\n",
    "        for line in lines:\n",
    "            # Skip the header line\n",
    "            if line.startswith('1') or line.startswith('-1'):\n",
    "                # Split the line into tokens using space as the delimiter\n",
    "                tokens = line.split(' ', 1)\n",
    "            \n",
    "                # Check if the tokens list contains at least two elements\n",
    "                if len(tokens) >= 2:\n",
    "                    # Append the label and sentence to the respective lists\n",
    "                    labels.append(int(tokens[0]))\n",
    "                    sentences.append(tokens[1])\n",
    "        \n",
    "        # Create a DataFrame from the sentences and labels\n",
    "        df = pd.DataFrame({'sentence': sentences, 'label': labels})\n",
    "    \n",
    "    return df\n",
    "\n",
    "# Read the dataset\n",
    "dataset = read_sst('stanford_sentiment_analysis.tar.gz')\n"
   ]
  },
  {
   "cell_type": "code",
   "execution_count": 35,
   "metadata": {},
   "outputs": [],
   "source": [
    "# Create a function to preprocess the sentences:\n",
    "def preprocess_sentence(sentence):\n",
    "    # Remove the HTML tags\n",
    "    sentence = re.sub(r'<[^>]+>', '', sentence)\n",
    "    \n",
    "    # Remove any non-alphanumeric characters (except spaces)\n",
    "    sentence = re.sub(r'[^a-zA-Z0-9 ]', '', sentence)\n",
    "    \n",
    "    # Remove extra spaces\n",
    "    sentence = re.sub(r'\\s+', ' ', sentence)\n",
    "    \n",
    "    # Convert to lowercase\n",
    "    sentence = sentence.lower()\n",
    "    \n",
    "    # Return the preprocessed sentence\n",
    "    return sentence\n",
    "\n",
    "# Preprocess the sentences\n",
    "dataset['sentence'] = dataset['sentence'].apply(preprocess_sentence)\n",
    "\n",
    "# Create a function to tokenize the sentences:\n",
    "def tokenize_sentence(sentence):\n",
    "    # Split the sentence into tokens\n",
    "    tokens = sentence.split(' ')\n",
    "    \n",
    "    # Return the list of tokens\n",
    "    return tokens\n",
    "\n",
    "# Tokenize the sentences\n",
    "dataset['tokens'] = dataset['sentence'].apply(tokenize_sentence)\n"
   ]
  },
  {
   "cell_type": "code",
   "execution_count": 36,
   "metadata": {},
   "outputs": [],
   "source": [
    "# Vectorize the tokens using the embedding matrix:\n",
    "def vectorize_tokens(tokens, embedding_matrix):\n",
    "    # Initialize the vector\n",
    "    vectors = np.zeros((len(tokens), 250))\n",
    "    \n",
    "    # Loop over the tokens\n",
    "    for i in range(len(tokens)):\n",
    "        # Check if the token is in the vocabulary\n",
    "        if tokens[i] in word_ids:\n",
    "            # Get the index of the token in the vocabulary\n",
    "            index = word_ids[tokens[i]]\n",
    "            \n",
    "            # Get the vector of the token from the embedding matrix\n",
    "            vectors[i] = embedding_matrix[index]\n",
    "    \n",
    "    # Return the vector\n",
    "    return vectors\n",
    "\n",
    "# Vectorize the tokens\n",
    "dataset['original_vectors'] = dataset['tokens'].apply(lambda tokens: vectorize_tokens(tokens, embedding_matrix))\n",
    "dataset['retrofitted_vectors'] = dataset['tokens'].apply(lambda tokens: vectorize_tokens(tokens, retrofitted_matrix))"
   ]
  },
  {
   "cell_type": "code",
   "execution_count": 37,
   "metadata": {},
   "outputs": [
    {
     "name": "stdout",
     "output_type": "stream",
     "text": [
      "35\n"
     ]
    },
    {
     "data": {
      "text/plain": [
       "(35, 250)"
      ]
     },
     "execution_count": 37,
     "metadata": {},
     "output_type": "execute_result"
    }
   ],
   "source": [
    "print(len(dataset['tokens'][0]))\n",
    "dataset['original_vectors'][0].shape"
   ]
  },
  {
   "cell_type": "code",
   "execution_count": 38,
   "metadata": {},
   "outputs": [],
   "source": [
    "# Calculate the vector for each sentence by averaging the vectors of the tokens:\n",
    "def calculate_sentence_vector(vectors):\n",
    "    # Calculate the average of all token vectors\n",
    "    vector = np.mean(vectors, axis = 0)\n",
    "    # Return the vector\n",
    "    return vector\n",
    "\n",
    "# Calculate the sentence vectors\n",
    "dataset['ori_sentence_vector'] = dataset['original_vectors'].apply(calculate_sentence_vector) \n",
    "dataset['retro_sentence_vector'] = dataset['retrofitted_vectors'].apply(calculate_sentence_vector)\n",
    "dataset['label'] = dataset['label'].apply(lambda x: 1 if x == 1 else 0) # Convert the labels to 0 and 1\n",
    "\n",
    "# Dropping the columns that are not needed:\n",
    "dataset = dataset.drop(['sentence', 'tokens', 'original_vectors', 'retrofitted_vectors'], axis = 1)\n"
   ]
  },
  {
   "cell_type": "code",
   "execution_count": 39,
   "metadata": {},
   "outputs": [],
   "source": [
    "# Create example sets for the original and retrofitted datasets:\n",
    "dataset_original = [(dataset['ori_sentence_vector'][i], dataset['label'][i]) for i in range(len(dataset))]\n",
    "dataset_retrofitted = [(dataset['retro_sentence_vector'][i], dataset['label'][i]) for i in range(len(dataset))]\n",
    "\n",
    "# Split the dataset into train, dev, test sets:\n",
    "from sklearn.model_selection import train_test_split\n",
    "ori_train, ori_temp = train_test_split(dataset_original, test_size = 0.2, random_state = 0)\n",
    "ori_dev, ori_test = train_test_split(ori_temp, test_size = 0.5, random_state = 0)\n",
    "\n",
    "retro_train, retro_temp = train_test_split(dataset_retrofitted, test_size = 0.2, random_state = 0)\n",
    "retro_dev, retro_test = train_test_split(retro_temp, test_size = 0.5, random_state = 0)\n"
   ]
  },
  {
   "cell_type": "code",
   "execution_count": 40,
   "metadata": {},
   "outputs": [],
   "source": [
    "# Create a simple one hidden layer neural network:\n",
    "class SentimentAnalysis(torch.nn.Module):\n",
    "    def __init__(self, input_dim, hidden_dim, output_dim, early_stop = False):\n",
    "        super(SentimentAnalysis, self).__init__()\n",
    "        self.linear1 = torch.nn.Linear(input_dim, hidden_dim) #[250, 100]\n",
    "        self.linear2 = torch.nn.Linear(hidden_dim, output_dim) #[100, 2]\n",
    "        self.sigmoid = torch.nn.Sigmoid() # Sigmoid for binary classification\n",
    "        self.activation = torch.nn.ReLU()\n",
    "        self.early_stop = early_stop\n",
    "        \n",
    "    def forward(self, x):\n",
    "        out = self.linear1(x) # [batch_size, 250] * [250, 100] = [batch_size, 100]\n",
    "        out = self.activation(out) # [batch_size, 100]\n",
    "        out = self.linear2(out) # [batch_size, 100] * [100, 2] = [batch_size, 2]\n",
    "        out = self.sigmoid(out) # [batch_size, 2]\n",
    "        return out\n",
    "\n",
    "# Create the model for original embeddings:\n",
    "model_original = SentimentAnalysis(250, 100, 2)\n",
    "# Create the model for retrofitted embeddings:\n",
    "model_retrofitted = SentimentAnalysis(250, 100, 2)\n"
   ]
  },
  {
   "cell_type": "code",
   "execution_count": 41,
   "metadata": {},
   "outputs": [],
   "source": [
    "# Define the loss function and optimizer:\n",
    "loss_function = torch.nn.CrossEntropyLoss()\n",
    "optimizer_original = torch.optim.Adam(model_original.parameters(), lr = 0.001)\n",
    "optimizer_retrofitted = torch.optim.Adam(model_retrofitted.parameters(), lr = 0.001)\n",
    "\n",
    "from random import shuffle\n"
   ]
  },
  {
   "cell_type": "code",
   "execution_count": 42,
   "metadata": {},
   "outputs": [
    {
     "name": "stdout",
     "output_type": "stream",
     "text": [
      "Training the original model...\n",
      "Epoch: 0\n"
     ]
    },
    {
     "name": "stderr",
     "output_type": "stream",
     "text": [
      "C:\\Users\\Wazzat\\AppData\\Local\\Temp\\ipykernel_14424\\4129527228.py:17: UserWarning: Creating a tensor from a list of numpy.ndarrays is extremely slow. Please consider converting the list to a single numpy.ndarray with numpy.array() before converting to a tensor. (Triggered internally at ..\\torch\\csrc\\utils\\tensor_new.cpp:248.)\n",
      "  sentence = torch.FloatTensor(sentence) # [batch_size, 250]\n"
     ]
    },
    {
     "name": "stdout",
     "output_type": "stream",
     "text": [
      "Loss on training set at epoch 0 : 153.400101\n",
      "Epoch: 1\n",
      "Loss on training set at epoch 1 : 133.660222\n",
      "Epoch: 2\n",
      "Loss on training set at epoch 2 : 127.935602\n",
      "Epoch: 3\n",
      "Loss on training set at epoch 3 : 125.240231\n",
      "Epoch: 4\n",
      "Loss on training set at epoch 4 : 124.072411\n",
      "Epoch: 5\n",
      "Loss on training set at epoch 5 : 122.993484\n",
      "Epoch: 6\n",
      "Loss on training set at epoch 6 : 122.440195\n",
      "Epoch: 7\n",
      "Loss on training set at epoch 7 : 122.158350\n",
      "Epoch: 8\n",
      "Loss on training set at epoch 8 : 121.619787\n",
      "Epoch: 9\n",
      "Loss on training set at epoch 9 : 121.064905\n",
      "Epoch: 10\n",
      "Loss on training set at epoch 10 : 121.126370\n",
      "Epoch: 11\n",
      "Loss on training set at epoch 11 : 120.509867\n",
      "Epoch: 12\n",
      "Loss on training set at epoch 12 : 120.093741\n",
      "Epoch: 13\n",
      "Loss on training set at epoch 13 : 120.068827\n",
      "Epoch: 14\n",
      "Loss on training set at epoch 14 : 120.008695\n",
      "Epoch: 15\n",
      "Loss on training set at epoch 15 : 120.037117\n",
      "Epoch: 16\n",
      "Loss on training set at epoch 16 : 119.592616\n",
      "Epoch: 17\n",
      "Loss on training set at epoch 17 : 119.329150\n",
      "Epoch: 18\n",
      "Loss on training set at epoch 18 : 119.209999\n",
      "Epoch: 19\n",
      "Loss on training set at epoch 19 : 119.047026\n",
      "Epoch: 20\n",
      "Loss on training set at epoch 20 : 118.732153\n",
      "Epoch: 21\n",
      "Loss on training set at epoch 21 : 118.512055\n",
      "Epoch: 22\n",
      "Loss on training set at epoch 22 : 118.803870\n",
      "Epoch: 23\n",
      "Loss on training set at epoch 23 : 118.460951\n",
      "Epoch: 24\n",
      "Loss on training set at epoch 24 : 117.992295\n",
      "Epoch: 25\n",
      "Loss on training set at epoch 25 : 117.776776\n",
      "Epoch: 26\n",
      "Loss on training set at epoch 26 : 118.089114\n",
      "Epoch: 27\n",
      "Loss on training set at epoch 27 : 117.635196\n",
      "Epoch: 28\n",
      "Loss on training set at epoch 28 : 117.827091\n",
      "Epoch: 29\n",
      "Loss on training set at epoch 29 : 117.638818\n",
      "Epoch: 30\n",
      "Loss on training set at epoch 30 : 117.285335\n",
      "Epoch: 31\n",
      "Loss on training set at epoch 31 : 117.378223\n",
      "Epoch: 32\n",
      "Loss on training set at epoch 32 : 117.106405\n",
      "Epoch: 33\n",
      "Loss on training set at epoch 33 : 116.587405\n",
      "Epoch: 34\n",
      "Loss on training set at epoch 34 : 116.867731\n",
      "Epoch: 35\n",
      "Loss on training set at epoch 35 : 116.630046\n",
      "Epoch: 36\n",
      "Loss on training set at epoch 36 : 117.094828\n",
      "Epoch: 37\n",
      "Loss on training set at epoch 37 : 116.139964\n",
      "Epoch: 38\n",
      "Loss on training set at epoch 38 : 116.036785\n",
      "Epoch: 39\n",
      "Loss on training set at epoch 39 : 115.815911\n",
      "Epoch: 40\n",
      "Loss on training set at epoch 40 : 115.540447\n",
      "Epoch: 41\n",
      "Loss on training set at epoch 41 : 116.267149\n",
      "Epoch: 42\n",
      "Loss on training set at epoch 42 : 115.858991\n",
      "Epoch: 43\n",
      "Loss on training set at epoch 43 : 115.413104\n",
      "Epoch: 44\n",
      "Loss on training set at epoch 44 : 115.530806\n",
      "Epoch: 45\n",
      "Loss on training set at epoch 45 : 115.341359\n",
      "Epoch: 46\n",
      "Loss on training set at epoch 46 : 115.154453\n",
      "Epoch: 47\n",
      "Loss on training set at epoch 47 : 115.505254\n",
      "Epoch: 48\n",
      "Loss on training set at epoch 48 : 114.696714\n",
      "Epoch: 49\n",
      "Loss on training set at epoch 49 : 115.402584\n"
     ]
    },
    {
     "data": {
      "image/png": "[encoded data removed]",
      "text/plain": [
       "<Figure size 640x480 with 1 Axes>"
      ]
     },
     "metadata": {},
     "output_type": "display_data"
    }
   ],
   "source": [
    "# Training the original model:\n",
    "train_losses = []\n",
    "print('Training the original model...')\n",
    "for epoch in range(50):\n",
    "    print('Epoch:', epoch)\n",
    "    epoch_loss = 0\n",
    "    shuffle(ori_train)\n",
    "    i = 0\n",
    "    # Process the training data in batches of 32:\n",
    "    while i < len(ori_train):\n",
    "        batch = ori_train[i:i+32]\n",
    "        i += 32\n",
    "        # Get the sentence vectors and labels from the batch:\n",
    "        sentence, label = zip(*batch)\n",
    "        \n",
    "        # Step 1: Process the input data:\n",
    "        sentence = torch.FloatTensor(sentence) # [batch_size, 250]\n",
    "        label = torch.LongTensor(label) # [batch_size]\n",
    "        \n",
    "        # Step 2: Zero the gradients:\n",
    "        model_original.zero_grad()\n",
    "        \n",
    "        # Step 3: Run the forward propagation:\n",
    "        output = model_original(sentence)\n",
    "        \n",
    "        # Step 4: Compute loss and gradients:\n",
    "        loss = loss_function(output, label)\n",
    "        epoch_loss += loss.item()\n",
    "        loss.backward()\n",
    "        \n",
    "        # Step 5: Update the weights:\n",
    "        optimizer_original.step()\n",
    "    # end of handling of this batch\n",
    "    print(\"Loss on training set at epoch %d : %f\" %(epoch, epoch_loss))\n",
    "    train_losses.append(epoch_loss)    \n",
    "    # Step 6: Early stopping:\n",
    "    with torch.no_grad():\n",
    "        if model_original.early_stop:\n",
    "            # forward propagation\n",
    "            # We convert the test examples to tensors and do the forward propagation\n",
    "            dev_sentence, dev_label = zip(*ori_dev)\n",
    "            dev_sentence = torch.tensor(dev_sentence, dtype=torch.float32) # [DEV_SIZE, CONTEXT_SIZE]\n",
    "            dev_label = torch.tensor(dev_label, dtype=torch.long)   # [DEV_SIZE]        \n",
    "            output = model_original(dev_sentence)    \n",
    "                \n",
    "            # total loss on the dev set\n",
    "            dev_loss = loss_function(output, dev_label)\n",
    "            print(\"Loss on dev set at epoch %d: %f\\n\" %(epoch, dev_loss))\n",
    "                \n",
    "            # prediction and accuracy on the dev set\n",
    "            pred_labels = torch.argmax(output, dim=1)\n",
    "            accuracy = torch.sum(pred_labels == dev_label).item() / len(dev_label)\n",
    "            print(\"Accuracy on dev, after epoch %d: %3.2f\\n\" % (epoch, accuracy * 100))\n",
    "                \n",
    "            # early stopping\n",
    "            # if first epoch: we record the dev loss, to be used for early stopping\n",
    "            if epoch == 0:\n",
    "                previous_dev_loss = dev_loss\n",
    "            elif dev_loss > previous_dev_loss:\n",
    "                print(\"Loss on dev has increased, we stop training!\")\n",
    "                break\n",
    "            else:\n",
    "                previous_dev_loss = dev_loss\n",
    "# Plot the training losses\n",
    "plt.plot(train_losses)\n",
    "plt.xlabel(\"Epoch\")\n",
    "plt.ylabel(\"Loss\")\n",
    "plt.title(\"Training losses over Epochs\")\n",
    "plt.show()\n",
    "        "
   ]
  },
  {
   "cell_type": "code",
   "execution_count": 43,
   "metadata": {},
   "outputs": [
    {
     "name": "stdout",
     "output_type": "stream",
     "text": [
      "Loss on test set after training: 0.507737\n",
      "\n",
      "Accuracy on test after training: 79.19\n",
      "\n"
     ]
    }
   ],
   "source": [
    "# Test on test set after training:\n",
    "with torch.no_grad():\n",
    "    # forward propagation on test set\n",
    "    test_sentence, test_label = zip(*ori_test)\n",
    "    test_sentence = torch.tensor(test_sentence, dtype=torch.float32) # [DEV_SIZE, CONTEXT_SIZE]\n",
    "    test_label = torch.tensor(test_label, dtype=torch.long)   # [DEV_SIZE]\n",
    "    log_probs = model_original(test_sentence)\n",
    "    \n",
    "    # total loss on the test set\n",
    "    test_loss = loss_function(log_probs, test_label)\n",
    "    print(\"Loss on test set after training: %f\\n\" %(test_loss))\n",
    "            \n",
    "    # prediction and accuracy on the dev set\n",
    "    pred_labels = torch.argmax(log_probs, dim=1)\n",
    "    accuracy = torch.sum(pred_labels == test_label).item() / len(test_label)\n",
    "    print(\"Accuracy on test after training: %3.2f\\n\" % (accuracy * 100))"
   ]
  },
  {
   "cell_type": "code",
   "execution_count": 44,
   "metadata": {},
   "outputs": [
    {
     "name": "stdout",
     "output_type": "stream",
     "text": [
      "Training the retrofitted model...\n",
      "Epoch: 0\n",
      "Loss on training set at epoch 0 : 157.152318\n",
      "Epoch: 1\n",
      "Loss on training set at epoch 1 : 139.787846\n",
      "Epoch: 2\n",
      "Loss on training set at epoch 2 : 134.375078\n",
      "Epoch: 3\n",
      "Loss on training set at epoch 3 : 131.856924\n",
      "Epoch: 4\n",
      "Loss on training set at epoch 4 : 130.628505\n",
      "Epoch: 5\n",
      "Loss on training set at epoch 5 : 129.466298\n",
      "Epoch: 6\n",
      "Loss on training set at epoch 6 : 129.070657\n",
      "Epoch: 7\n",
      "Loss on training set at epoch 7 : 128.554352\n",
      "Epoch: 8\n",
      "Loss on training set at epoch 8 : 127.898081\n",
      "Epoch: 9\n",
      "Loss on training set at epoch 9 : 127.631196\n",
      "Epoch: 10\n",
      "Loss on training set at epoch 10 : 127.250986\n",
      "Epoch: 11\n",
      "Loss on training set at epoch 11 : 127.090463\n",
      "Epoch: 12\n",
      "Loss on training set at epoch 12 : 126.738622\n",
      "Epoch: 13\n",
      "Loss on training set at epoch 13 : 126.339803\n",
      "Epoch: 14\n",
      "Loss on training set at epoch 14 : 126.653746\n",
      "Epoch: 15\n",
      "Loss on training set at epoch 15 : 126.088946\n",
      "Epoch: 16\n",
      "Loss on training set at epoch 16 : 125.813918\n",
      "Epoch: 17\n",
      "Loss on training set at epoch 17 : 125.667008\n",
      "Epoch: 18\n",
      "Loss on training set at epoch 18 : 125.926642\n",
      "Epoch: 19\n",
      "Loss on training set at epoch 19 : 125.712351\n",
      "Epoch: 20\n",
      "Loss on training set at epoch 20 : 125.017828\n",
      "Epoch: 21\n",
      "Loss on training set at epoch 21 : 125.162483\n",
      "Epoch: 22\n",
      "Loss on training set at epoch 22 : 125.128072\n",
      "Epoch: 23\n",
      "Loss on training set at epoch 23 : 124.806923\n",
      "Epoch: 24\n",
      "Loss on training set at epoch 24 : 124.764344\n",
      "Epoch: 25\n",
      "Loss on training set at epoch 25 : 124.544847\n",
      "Epoch: 26\n",
      "Loss on training set at epoch 26 : 124.698739\n",
      "Epoch: 27\n",
      "Loss on training set at epoch 27 : 124.589081\n",
      "Epoch: 28\n",
      "Loss on training set at epoch 28 : 124.233541\n",
      "Epoch: 29\n",
      "Loss on training set at epoch 29 : 124.214788\n",
      "Epoch: 30\n",
      "Loss on training set at epoch 30 : 124.270713\n",
      "Epoch: 31\n",
      "Loss on training set at epoch 31 : 123.817321\n",
      "Epoch: 32\n",
      "Loss on training set at epoch 32 : 123.973249\n",
      "Epoch: 33\n",
      "Loss on training set at epoch 33 : 123.560490\n",
      "Epoch: 34\n",
      "Loss on training set at epoch 34 : 123.792646\n",
      "Epoch: 35\n",
      "Loss on training set at epoch 35 : 123.556769\n",
      "Epoch: 36\n",
      "Loss on training set at epoch 36 : 123.614726\n",
      "Epoch: 37\n",
      "Loss on training set at epoch 37 : 123.492195\n",
      "Epoch: 38\n",
      "Loss on training set at epoch 38 : 123.340162\n",
      "Epoch: 39\n",
      "Loss on training set at epoch 39 : 123.179864\n",
      "Epoch: 40\n",
      "Loss on training set at epoch 40 : 123.229141\n",
      "Epoch: 41\n",
      "Loss on training set at epoch 41 : 123.146389\n",
      "Epoch: 42\n",
      "Loss on training set at epoch 42 : 122.674165\n",
      "Epoch: 43\n",
      "Loss on training set at epoch 43 : 122.785265\n",
      "Epoch: 44\n",
      "Loss on training set at epoch 44 : 122.535010\n",
      "Epoch: 45\n",
      "Loss on training set at epoch 45 : 122.586527\n",
      "Epoch: 46\n",
      "Loss on training set at epoch 46 : 122.472605\n",
      "Epoch: 47\n",
      "Loss on training set at epoch 47 : 122.733095\n",
      "Epoch: 48\n",
      "Loss on training set at epoch 48 : 122.039790\n",
      "Epoch: 49\n",
      "Loss on training set at epoch 49 : 122.195989\n"
     ]
    },
    {
     "data": {
      "image/png": "[encoded data removed]",
      "text/plain": [
       "<Figure size 640x480 with 1 Axes>"
      ]
     },
     "metadata": {},
     "output_type": "display_data"
    }
   ],
   "source": [
    "# Training the retrofitted model:\n",
    "train_losses = []\n",
    "print('Training the retrofitted model...')\n",
    "\n",
    "for epoch in range(50):\n",
    "    print('Epoch:', epoch)\n",
    "    epoch_loss = 0\n",
    "    shuffle(retro_train)\n",
    "    i = 0\n",
    "    # Process the training data in batches of 32:\n",
    "    while i < len(retro_train):\n",
    "        batch = retro_train[i:i+32]\n",
    "        i += 32\n",
    "        # Get the sentence vectors and labels from the batch:\n",
    "        sentence, label = zip(*batch)\n",
    "        \n",
    "        # Step 1: Process the input data:\n",
    "        sentence = torch.FloatTensor(sentence) # [batch_size, 250]\n",
    "        label = torch.LongTensor(label) # [batch_size]\n",
    "        \n",
    "        # Step 2: Zero the gradients:\n",
    "        model_retrofitted.zero_grad()\n",
    "        \n",
    "        # Step 3: Run the forward propagation:\n",
    "        output = model_retrofitted(sentence)\n",
    "        \n",
    "        # Step 4: Compute loss and gradients:\n",
    "        loss = loss_function(output, label)\n",
    "        epoch_loss += loss.item()\n",
    "        loss.backward()\n",
    "        \n",
    "        # Step 5: Update the weights:\n",
    "        optimizer_retrofitted.step()\n",
    "    # end of handling of this batch\n",
    "    print(\"Loss on training set at epoch %d : %f\" %(epoch, epoch_loss))\n",
    "    train_losses.append(epoch_loss)    \n",
    "        # Step 6: Early stopping:\n",
    "    with torch.no_grad():\n",
    "        if model_retrofitted.early_stop:\n",
    "            # forward propagation\n",
    "            # We convert the test examples to tensors and do the forward propagation\n",
    "            dev_sentence, dev_label = zip(*retro_dev)\n",
    "            dev_sentence = torch.tensor(dev_sentence, dtype=torch.float32) # [DEV_SIZE, CONTEXT_SIZE]\n",
    "            dev_label = torch.tensor(dev_label, dtype=torch.long)   # [DEV_SIZE]        \n",
    "            output = model_retrofitted(dev_sentence)    \n",
    "                \n",
    "            # total loss on the dev set\n",
    "            dev_loss = loss_function(output, dev_label)\n",
    "            print(\"Loss on dev set at epoch %d: %f\\n\" %(epoch, dev_loss))\n",
    "                \n",
    "            # prediction and accuracy on the dev set\n",
    "            pred_labels = torch.argmax(output, dim=1)\n",
    "            accuracy = torch.sum(pred_labels == dev_label).item() / len(dev_label)\n",
    "            print(\"Accuracy on dev, after epoch %d: %3.2f\\n\" % (epoch, accuracy * 100))\n",
    "                \n",
    "            # early stopping\n",
    "            # if first epoch: we record the dev loss, to be used for early stopping\n",
    "            if epoch == 0:\n",
    "                previous_dev_loss = dev_loss\n",
    "            elif dev_loss > previous_dev_loss:\n",
    "                print(\"Loss on dev has increased, we stop training!\")\n",
    "                break\n",
    "            else:\n",
    "                previous_dev_loss = dev_loss\n",
    "# Plot the training losses\n",
    "plt.plot(train_losses)\n",
    "plt.xlabel(\"Epoch\")\n",
    "plt.ylabel(\"Loss\")\n",
    "plt.title(\"Training losses over Epochs\")\n",
    "plt.show()\n",
    "        "
   ]
  },
  {
   "cell_type": "code",
   "execution_count": 45,
   "metadata": {},
   "outputs": [
    {
     "name": "stdout",
     "output_type": "stream",
     "text": [
      "Loss on test set after training: 0.534247\n",
      "\n",
      "Accuracy on test after training: 76.69\n",
      "\n"
     ]
    }
   ],
   "source": [
    "# Test on test set after training:\n",
    "with torch.no_grad():\n",
    "    # forward propagation on test set\n",
    "    test_sentence, test_label = zip(*retro_test)\n",
    "    test_sentence = torch.tensor(test_sentence, dtype=torch.float32) # [DEV_SIZE, CONTEXT_SIZE]\n",
    "    test_label = torch.tensor(test_label, dtype=torch.long)   # [DEV_SIZE]\n",
    "    log_probs = model_retrofitted(test_sentence)\n",
    "    \n",
    "    # total loss on the test set\n",
    "    test_loss = loss_function(log_probs, test_label)\n",
    "    print(\"Loss on test set after training: %f\\n\" %(test_loss))\n",
    "            \n",
    "    # prediction and accuracy on the dev set\n",
    "    pred_labels = torch.argmax(log_probs, dim=1)\n",
    "    accuracy = torch.sum(pred_labels == test_label).item() / len(test_label)\n",
    "    print(\"Accuracy on test after training: %3.2f\\n\" % (accuracy * 100))"
   ]
  },
  {
   "cell_type": "code",
   "execution_count": null,
   "metadata": {},
   "outputs": [],
   "source": []
  }
 ],
 "metadata": {
  "kernelspec": {
   "display_name": "local",
   "language": "python",
   "name": "python3"
  },
  "language_info": {
   "codemirror_mode": {
    "name": "ipython",
    "version": 3
   },
   "file_extension": ".py",
   "mimetype": "text/x-python",
   "name": "python",
   "nbconvert_exporter": "python",
   "pygments_lexer": "ipython3",
   "version": "3.10.11"
  },
  "orig_nbformat": 4
 },
 "nbformat": 4,
 "nbformat_minor": 2
}
