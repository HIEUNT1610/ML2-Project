{
 "cells": [
  {
   "attachments": {},
   "cell_type": "markdown",
   "metadata": {},
   "source": [
    "We will work on this notebook to implement the algorithm.\n",
    "Please check regularly for updates.\n",
    "\n",
    "Main tasks:\n",
    "1. Write the code for the algorithm\n",
    "2. Find better $\\alpha$ and $\\beta$ values for the model.\n",
    "3. Find stopping criteria for the model."
   ]
  },
  {
   "cell_type": "code",
   "execution_count": 15,
   "metadata": {},
   "outputs": [],
   "source": [
    "# Importing the libraries:\n",
    "import numpy as np\n",
    "import gensim.downloader as api\n"
   ]
  },
  {
   "cell_type": "code",
   "execution_count": 10,
   "metadata": {},
   "outputs": [],
   "source": [
    "# Toy corpus of 10 words:\n",
    "toy_corpus = ['frog', 'toad', 'extrinsic', 'cat', 'intrinsic', 'dog', 'mission', 'true', 'false', 'incorrect']"
   ]
  },
  {
   "cell_type": "code",
   "execution_count": 6,
   "metadata": {},
   "outputs": [
    {
     "name": "stdout",
     "output_type": "stream",
     "text": [
      "[==================================================] 100.0% 1662.8/1662.8MB downloaded\n"
     ]
    }
   ],
   "source": [
    "# Load the Google News word2vec model:\n",
    "import gensim.downloader as api\n",
    "wv = api.load('word2vec-google-news-300')"
   ]
  },
  {
   "cell_type": "code",
   "execution_count": 16,
   "metadata": {},
   "outputs": [],
   "source": [
    "# Vectorize the toy corpus:\n",
    "vec_toy_corpus = [wv[word] for word in toy_corpus]"
   ]
  },
  {
   "cell_type": "code",
   "execution_count": 30,
   "metadata": {},
   "outputs": [
    {
     "name": "stdout",
     "output_type": "stream",
     "text": [
      "Similarity between frog and frog is 1.0000\n",
      "Similarity between frog and toad is 0.7050\n",
      "Similarity between frog and extrinsic is 0.0780\n",
      "Similarity between frog and cat is 0.4789\n",
      "Similarity between frog and intrinsic is 0.0972\n",
      "Similarity between frog and dog is 0.3550\n",
      "Similarity between frog and mission is 0.0185\n",
      "Similarity between frog and true is 0.1128\n",
      "Similarity between frog and false is -0.0008\n",
      "Similarity between frog and incorrect is 0.0589\n",
      "Similarity between toad and frog is 0.7050\n",
      "Similarity between toad and toad is 1.0000\n",
      "Similarity between toad and extrinsic is 0.0638\n",
      "Similarity between toad and cat is 0.4725\n",
      "Similarity between toad and intrinsic is 0.0609\n",
      "Similarity between toad and dog is 0.3837\n",
      "Similarity between toad and mission is 0.0607\n",
      "Similarity between toad and true is 0.0903\n",
      "Similarity between toad and false is 0.0358\n",
      "Similarity between toad and incorrect is 0.0119\n",
      "Similarity between extrinsic and frog is 0.0780\n",
      "Similarity between extrinsic and toad is 0.0638\n",
      "Similarity between extrinsic and extrinsic is 1.0000\n",
      "Similarity between extrinsic and cat is -0.0275\n",
      "Similarity between extrinsic and intrinsic is 0.4950\n",
      "Similarity between extrinsic and dog is -0.0656\n",
      "Similarity between extrinsic and mission is -0.0576\n",
      "Similarity between extrinsic and true is 0.1345\n",
      "Similarity between extrinsic and false is 0.1512\n",
      "Similarity between extrinsic and incorrect is 0.1686\n",
      "Similarity between cat and frog is 0.4789\n",
      "Similarity between cat and toad is 0.4725\n",
      "Similarity between cat and extrinsic is -0.0275\n",
      "Similarity between cat and cat is 1.0000\n",
      "Similarity between cat and intrinsic is 0.0047\n",
      "Similarity between cat and dog is 0.7609\n",
      "Similarity between cat and mission is 0.0152\n",
      "Similarity between cat and true is 0.0769\n",
      "Similarity between cat and false is 0.0476\n",
      "Similarity between cat and incorrect is 0.0909\n",
      "Similarity between intrinsic and frog is 0.0972\n",
      "Similarity between intrinsic and toad is 0.0609\n",
      "Similarity between intrinsic and extrinsic is 0.4950\n",
      "Similarity between intrinsic and cat is 0.0047\n",
      "Similarity between intrinsic and intrinsic is 1.0000\n",
      "Similarity between intrinsic and dog is 0.0080\n",
      "Similarity between intrinsic and mission is 0.0624\n",
      "Similarity between intrinsic and true is 0.3059\n",
      "Similarity between intrinsic and false is 0.0939\n",
      "Similarity between intrinsic and incorrect is 0.1198\n",
      "Similarity between dog and frog is 0.3550\n",
      "Similarity between dog and toad is 0.3837\n",
      "Similarity between dog and extrinsic is -0.0656\n",
      "Similarity between dog and cat is 0.7609\n",
      "Similarity between dog and intrinsic is 0.0080\n",
      "Similarity between dog and dog is 1.0000\n",
      "Similarity between dog and mission is 0.0146\n",
      "Similarity between dog and true is 0.0663\n",
      "Similarity between dog and false is 0.0469\n",
      "Similarity between dog and incorrect is 0.0495\n",
      "Similarity between mission and frog is 0.0185\n",
      "Similarity between mission and toad is 0.0607\n",
      "Similarity between mission and extrinsic is -0.0576\n",
      "Similarity between mission and cat is 0.0152\n",
      "Similarity between mission and intrinsic is 0.0624\n",
      "Similarity between mission and dog is 0.0146\n",
      "Similarity between mission and mission is 1.0000\n",
      "Similarity between mission and true is 0.1568\n",
      "Similarity between mission and false is 0.0452\n",
      "Similarity between mission and incorrect is 0.0439\n",
      "Similarity between true and frog is 0.1128\n",
      "Similarity between true and toad is 0.0903\n",
      "Similarity between true and extrinsic is 0.1345\n",
      "Similarity between true and cat is 0.0769\n",
      "Similarity between true and intrinsic is 0.3059\n",
      "Similarity between true and dog is 0.0663\n",
      "Similarity between true and mission is 0.1568\n",
      "Similarity between true and true is 1.0000\n",
      "Similarity between true and false is 0.3709\n",
      "Similarity between true and incorrect is 0.2458\n",
      "Similarity between false and frog is -0.0008\n",
      "Similarity between false and toad is 0.0358\n",
      "Similarity between false and extrinsic is 0.1512\n",
      "Similarity between false and cat is 0.0476\n",
      "Similarity between false and intrinsic is 0.0939\n",
      "Similarity between false and dog is 0.0469\n",
      "Similarity between false and mission is 0.0452\n",
      "Similarity between false and true is 0.3709\n",
      "Similarity between false and false is 1.0000\n",
      "Similarity between false and incorrect is 0.5383\n",
      "Similarity between incorrect and frog is 0.0589\n",
      "Similarity between incorrect and toad is 0.0119\n",
      "Similarity between incorrect and extrinsic is 0.1686\n",
      "Similarity between incorrect and cat is 0.0909\n",
      "Similarity between incorrect and intrinsic is 0.1198\n",
      "Similarity between incorrect and dog is 0.0495\n",
      "Similarity between incorrect and mission is 0.0439\n",
      "Similarity between incorrect and true is 0.2458\n",
      "Similarity between incorrect and false is 0.5383\n",
      "Similarity between incorrect and incorrect is 1.0000\n"
     ]
    }
   ],
   "source": [
    "# Compare vectors using cosine similarity:\n",
    "def cosine_similarity(vec1, vec2):\n",
    "    return np.dot(vec1, vec2) / (np.linalg.norm(vec1) * np.linalg.norm(vec2))\n",
    "\n",
    "# Compute the cosine similarity matrix:\n",
    "similarity_matrix = np.zeros((len(vec_toy_corpus), len(vec_toy_corpus)))\n",
    "for i in range(len(vec_toy_corpus)):\n",
    "    for j in range(len(vec_toy_corpus)):\n",
    "        similarity_matrix[i][j] = cosine_similarity(vec_toy_corpus[i], vec_toy_corpus[j])\n",
    "\n",
    "# Print the cosine similarity matrix:\n",
    "for i in range(len(vec_toy_corpus)):\n",
    "    for j in range(len(vec_toy_corpus)):\n",
    "        print(f'Similarity between {toy_corpus[i]} and {toy_corpus[j]} is {similarity_matrix[i][j]:.4f}')"
   ]
  },
  {
   "cell_type": "code",
   "execution_count": null,
   "metadata": {},
   "outputs": [],
   "source": [
    "# We implement the retrofitting algorithm as a function:\n"
   ]
  }
 ],
 "metadata": {
  "kernelspec": {
   "display_name": "local",
   "language": "python",
   "name": "python3"
  },
  "language_info": {
   "codemirror_mode": {
    "name": "ipython",
    "version": 3
   },
   "file_extension": ".py",
   "mimetype": "text/x-python",
   "name": "python",
   "nbconvert_exporter": "python",
   "pygments_lexer": "ipython3",
   "version": "3.10.10"
  },
  "orig_nbformat": 4
 },
 "nbformat": 4,
 "nbformat_minor": 2
}
